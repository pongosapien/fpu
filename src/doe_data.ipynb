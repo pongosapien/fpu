{
 "metadata": {
  "name": "",
  "signature": "sha256:e71686864202779cd358b6cb535b66635db21deed5bf7559235cd62ffee666bb"
 },
 "nbformat": 3,
 "nbformat_minor": 0,
 "worksheets": [
  {
   "cells": [
    {
     "cell_type": "code",
     "collapsed": false,
     "input": [],
     "language": "python",
     "metadata": {},
     "outputs": []
    }
   ],
   "metadata": {}
  }
 ]
}